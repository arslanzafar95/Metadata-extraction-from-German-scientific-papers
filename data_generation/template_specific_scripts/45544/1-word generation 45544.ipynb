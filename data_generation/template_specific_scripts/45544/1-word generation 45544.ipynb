{
 "cells": [
  {
   "cell_type": "code",
   "execution_count": 17,
   "metadata": {},
   "outputs": [],
   "source": [
    "import pandas as pd\n",
    "df = pd.read_excel(\"45544.xlsx\")"
   ]
  },
  {
   "cell_type": "code",
   "execution_count": null,
   "metadata": {
    "scrolled": true
   },
   "outputs": [],
   "source": [
    "import re\n",
    "from docx import Document\n",
    "\n",
    "temp = \"\"\n",
    "def docx_replace_regex(doc_obj, regex , replace, temp):\n",
    "    for p in doc_obj.paragraphs:\n",
    "        #print(p.text)\n",
    "        inline = p.runs\n",
    "        for i in range(len(inline)):\n",
    "            print(inline[i].text)\n",
    "\n",
    "        print(\"####################\")\n",
    "        if regex in p.text:\n",
    "            for i in range(len(inline)):  \n",
    "                \n",
    "                temp = temp + inline[i].text\n",
    "                #print(temp)\n",
    "                if regex in temp:\n",
    "                    if replace==\"na\":\n",
    "                        continue \n",
    "                    else:\n",
    "                        temp = temp.replace(regex, replace)\n",
    "                        #print(temp)\n",
    "                        inline[i].text=temp        \n",
    "  \n",
    "def printf (doc_obj):\n",
    "    \n",
    "    for p in doc_obj.paragraphs:\n",
    "        if p.text=='':\n",
    "            continue\n",
    "        else:\n",
    "            print(p.text)\n",
    "\n",
    "text_to_replace1 = \"author\"\n",
    "text_to_replace2 = \"affiliation\"\n",
    "text_to_replace3 = \"author\"\n",
    "text_to_replace7 = \"Abstract2\"\n",
    "text_to_replace8 = \"Abstract1\"\n",
    "\n",
    "count=0\n",
    "number=0\n",
    "stopnumber=0\n",
    "for row in df.index:\n",
    "    x=''\n",
    "    for xx in range(len(df['author'][count].split(','))):\n",
    "        x=x+df[\"author\"][count].split(',')[xx]+'\\n'+ df[\"affiliation\"][count]+ '\\n'\n",
    "        \n",
    "    replace1 = df['title'][count]\n",
    "    replace2 = x\n",
    "    replace3 = df['author'][count].replace(',','/')+'-'+df['title'][count].replace(' ',' _')+'__'\n",
    "    replace7 = df['German abstract'][count].replace('\\xa0',' ').replace('                ',' ').replace(\"  \",\" \").replace(\"  \",\" \").replace(\"  \",\" \").replace(\"  \",\" \").replace(\"  \",\" \").replace(\"  \",\" \").replace(\"  \",\" \")\n",
    "    replace8 = df['EnglishAbstract'][count].replace('\\xa0',' ').replace('                ',' ').replace(\"  \",\" \").replace(\"  \",\" \").replace(\"  \",\" \").replace(\"  \",\" \").replace(\"  \",\" \").replace(\"  \",\" \").replace(\"  \",\" \")\n",
    "  \n",
    "    filename = \"45544.docx\"\n",
    "    doc = Document(filename)\n",
    "    docx_replace_regex(doc, text_to_replace1 , replace1, temp)\n",
    "    docx_replace_regex(doc, text_to_replace2 , replace2, temp)\n",
    "    docx_replace_regex(doc, text_to_replace3 , replace3, temp)\n",
    "    docx_replace_regex(doc, text_to_replace7 , replace7, temp)\n",
    "    docx_replace_regex(doc, text_to_replace8 , replace8, temp)\n",
    "    \n",
    "    \n",
    "    for section in doc.sections:\n",
    "        footer = section.footer\n",
    "        print(footer.paragraphs[0].text)\n",
    "        footer.paragraphs[1].text  = df['journal'][count]+' '+str(df['year'][count])\n",
    "\n",
    "\n",
    "    count=count+1\n",
    "    \n",
    "    printf (doc)\n",
    "    \n",
    "    print(\" \\n ---------------------------------------------------------------------------------------- \\n\")\n",
    "\n",
    "    doc.save('45544_' + str(number) +  '.docx')\n",
    "    number = number+1\n",
    "    stopnumber=stopnumber+1\n",
    "    if stopnumber==1600:\n",
    "        break\n"
   ]
  },
  {
   "cell_type": "code",
   "execution_count": 20,
   "metadata": {},
   "outputs": [
    {
     "name": "stdout",
     "output_type": "stream",
     "text": [
      "Done\n"
     ]
    }
   ],
   "source": [
    "print('Done')"
   ]
  }
 ],
 "metadata": {
  "kernelspec": {
   "display_name": "Python 3",
   "language": "python",
   "name": "python3"
  },
  "language_info": {
   "codemirror_mode": {
    "name": "ipython",
    "version": 3
   },
   "file_extension": ".py",
   "mimetype": "text/x-python",
   "name": "python",
   "nbconvert_exporter": "python",
   "pygments_lexer": "ipython3",
   "version": "3.7.6"
  }
 },
 "nbformat": 4,
 "nbformat_minor": 2
}
