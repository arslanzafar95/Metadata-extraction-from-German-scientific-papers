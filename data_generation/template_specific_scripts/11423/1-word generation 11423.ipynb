{
 "cells": [
  {
   "cell_type": "code",
   "execution_count": 6,
   "metadata": {},
   "outputs": [],
   "source": [
    "import pandas as pd\n",
    "df = pd.read_excel(\"11423.xlsx\")"
   ]
  },
  {
   "cell_type": "code",
   "execution_count": null,
   "metadata": {
    "scrolled": true
   },
   "outputs": [],
   "source": [
    "import re\n",
    "from docx import Document\n",
    "\n",
    "temp = \"\"\n",
    "def docx_replace_regex(doc_obj, regex , replace, temp):\n",
    "    for p in doc_obj.paragraphs:\n",
    "        #print(p.text)\n",
    "        inline = p.runs\n",
    "        for i in range(len(inline)):\n",
    "            print(inline[i].text)\n",
    "        \n",
    "        print(\"####################\")\n",
    "        if regex in p.text:\n",
    "            for i in range(len(inline)):  \n",
    "                \n",
    "                temp = temp + inline[i].text\n",
    "                #print(temp)\n",
    "                if regex in temp:\n",
    "                    if replace==\"na\":\n",
    "                        continue \n",
    "                    else:\n",
    "                        temp = temp.replace(regex, replace)\n",
    "                        #print(temp)\n",
    "                        inline[i].text=temp        \n",
    "\n",
    "def printf (doc_obj):   \n",
    "    for p in doc_obj.paragraphs:\n",
    "        if p.text=='':\n",
    "            continue\n",
    "        else:\n",
    "            print(p.text)\n",
    "    print(\" \\n ############################################################################# \\n\")\n",
    "\n",
    "text_to_replace1 = \"journal\"\n",
    "text_to_replace2 = \"affiliation\"\n",
    "text_to_replace3 = \"date\"\n",
    "text_to_replace4 = \"author\"\n",
    "text_to_replace5 = \"title\"\n",
    "#text_to_replace6 = \"nalyse\"\n",
    "\n",
    "count=0\n",
    "number=0\n",
    "stopnumber=0\n",
    "for row in df.index:\n",
    "\n",
    "    replace1 = df['journal'][count]\n",
    "    replace2 = df['affiliation'][count]\n",
    "    replace3 = \"Ausgabe 3. August \"+ str(df['year'][count])\n",
    "    replace4 = df['author'][count]\n",
    "    replace5 = df['title'][count]\n",
    "    #replace5 = \"\"\n",
    "    replace6 = \"\"\n",
    "    #print(replace1)\n",
    "    count=count+1\n",
    "  \n",
    "    filename = \"11423.docx\"\n",
    "    doc = Document(filename)\n",
    "    docx_replace_regex(doc, text_to_replace1 , replace1, temp)\n",
    "    docx_replace_regex(doc, text_to_replace2 , replace2, temp)\n",
    "    docx_replace_regex(doc, text_to_replace3 , replace3, temp)\n",
    "    docx_replace_regex(doc, text_to_replace4 , replace4, temp)\n",
    "    docx_replace_regex(doc, text_to_replace5 , replace5, temp)\n",
    "    #docx_replace_regex(doc, text_to_replace6 , replace6, temp)    \n",
    "    printf (doc)    \n",
    "    print(\" \\n ---------------------------------------------------------------------------------------- \\n\")\n",
    "\n",
    "    doc.save('11423_' + str(number) +  '.docx')\n",
    "    number = number+1\n",
    "    stopnumber=stopnumber+1\n",
    "    if stopnumber==1400:\n",
    "        break\n"
   ]
  },
  {
   "cell_type": "code",
   "execution_count": 14,
   "metadata": {},
   "outputs": [
    {
     "name": "stdout",
     "output_type": "stream",
     "text": [
      "Done\n"
     ]
    }
   ],
   "source": [
    "print('Done')"
   ]
  }
 ],
 "metadata": {
  "kernelspec": {
   "display_name": "Python 3",
   "language": "python",
   "name": "python3"
  },
  "language_info": {
   "codemirror_mode": {
    "name": "ipython",
    "version": 3
   },
   "file_extension": ".py",
   "mimetype": "text/x-python",
   "name": "python",
   "nbconvert_exporter": "python",
   "pygments_lexer": "ipython3",
   "version": "3.7.6"
  }
 },
 "nbformat": 4,
 "nbformat_minor": 2
}
