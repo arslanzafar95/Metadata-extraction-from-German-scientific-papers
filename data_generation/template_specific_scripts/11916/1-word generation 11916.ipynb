{
 "cells": [
  {
   "cell_type": "code",
   "execution_count": 1,
   "metadata": {},
   "outputs": [],
   "source": [
    "import pandas as pd\n",
    "df = pd.read_excel(\"11916.xlsx\")"
   ]
  },
  {
   "cell_type": "code",
   "execution_count": null,
   "metadata": {},
   "outputs": [],
   "source": [
    "import re\n",
    "from docx import Document\n",
    "\n",
    "temp = \"\"\n",
    "def docx_replace_regex(doc_obj, regex , replace, temp):\n",
    "    for p in doc_obj.paragraphs:\n",
    "        #print(p.text)\n",
    "        inline = p.runs\n",
    "        for i in range(len(inline)):\n",
    "            print(inline[i].text)\n",
    "  \n",
    "        \n",
    "        print(\"####################\")\n",
    "        if regex in p.text:\n",
    "            #inline = p.runs\n",
    "            #print(inline)\n",
    "            # Loop added to work with runs (strings with same style)\n",
    "            for i in range(len(inline)):  \n",
    "                \n",
    "                temp = temp + inline[i].text\n",
    "                #print(temp)\n",
    "                if regex in temp:\n",
    "                    if replace==\"na\":\n",
    "                        continue \n",
    "                    else:\n",
    "                        temp = temp.replace(regex, replace)\n",
    "                        #print(temp)\n",
    "                        inline[i].text=temp        \n",
    " \n",
    "def printf (doc_obj):\n",
    "    \n",
    "    for p in doc_obj.paragraphs:\n",
    "        if p.text=='':\n",
    "            continue\n",
    "        else:\n",
    "            print(p.text)\n",
    "   \n",
    "    print(\" \\n ############################################################################# \\n\")\n",
    "\n",
    "text_to_replace1 = \"author\"\n",
    "text_to_replace2 = \"title\"\n",
    "text_to_replace3 = \"journal\"\n",
    "text_to_replace4 = \"address\"\n",
    "text_to_replace5 = \"Abstract1\"\n",
    "text_to_replace6 = \"Abstract2\"\n",
    "\n",
    "count=0\n",
    "number=0\n",
    "stopnumber=0\n",
    "for row in df.index:\n",
    "\n",
    "    replace1 = df['author'][count]\n",
    "    replace2 = df['title'][count]\n",
    "    replace3 = df['journal'][count]+ \" Jahrgang 5 ( \" + str(df['year'][count]) + \" )\" + \"  Heft 2, S. 111-133\"\n",
    "    replace4 = \"© Lucius & Lucius Verlag \" + df['city'][count]\n",
    "    replace5 = df['German abstract'][count].replace('\\xa0',' ').replace('                ',' ').replace('  ',' ').replace('  ',' ').replace('  ',' ').replace('  ',' ').replace('  ',' ').replace('  ',' ')\n",
    "    #replace5 = \"\"\n",
    "    replace6 = df['EnglishAbstract'][count].replace('\\xa0',' ').replace('                ',' ').replace('  ',' ').replace('  ',' ').replace('  ',' ').replace('  ',' ').replace('  ',' ').replace('  ',' ')\n",
    "    #print(replace1)\n",
    "    count=count+1\n",
    "  \n",
    "    filename = \"11916.docx\"\n",
    "    doc = Document(filename)\n",
    "    docx_replace_regex(doc, text_to_replace1 , replace1, temp)\n",
    "    docx_replace_regex(doc, text_to_replace2 , replace2, temp)\n",
    "    docx_replace_regex(doc, text_to_replace3 , replace3, temp)\n",
    "    docx_replace_regex(doc, text_to_replace4 , replace4, temp)\n",
    "    docx_replace_regex(doc, text_to_replace5 , replace5, temp)\n",
    "    docx_replace_regex(doc, text_to_replace6 , replace6, temp) \n",
    "    printf (doc)  \n",
    "    print(\" \\n ---------------------------------------------------------------------------------------- \\n\")\n",
    "\n",
    "    doc.save('11916_' + str(number) +  '.docx')\n",
    "    number = number+1\n",
    "    stopnumber=stopnumber+1\n",
    "    if stopnumber==1600:\n",
    "        break\n"
   ]
  },
  {
   "cell_type": "code",
   "execution_count": 3,
   "metadata": {},
   "outputs": [
    {
     "name": "stdout",
     "output_type": "stream",
     "text": [
      "Done\n"
     ]
    }
   ],
   "source": [
    "print('Done')"
   ]
  }
 ],
 "metadata": {
  "kernelspec": {
   "display_name": "Python 3",
   "language": "python",
   "name": "python3"
  },
  "language_info": {
   "codemirror_mode": {
    "name": "ipython",
    "version": 3
   },
   "file_extension": ".py",
   "mimetype": "text/x-python",
   "name": "python",
   "nbconvert_exporter": "python",
   "pygments_lexer": "ipython3",
   "version": "3.7.6"
  }
 },
 "nbformat": 4,
 "nbformat_minor": 2
}
