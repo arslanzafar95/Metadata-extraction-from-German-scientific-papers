{
 "cells": [
  {
   "cell_type": "code",
   "execution_count": null,
   "metadata": {
    "id": "8ff8hlIhp78Z"
   },
   "outputs": [],
   "source": [
    "import pandas as pd\n",
    "df = pd.read_excel(\"6041.xlsx\")"
   ]
  },
  {
   "cell_type": "code",
   "execution_count": null,
   "metadata": {
    "id": "C6ZLBTtLp8Bt"
   },
   "outputs": [],
   "source": [
    "import re\n",
    "from docx import Document\n",
    "\n",
    "temp = \"\"\n",
    "def docx_replace_regex(doc_obj, regex , replace, temp):\n",
    "    for p in doc_obj.paragraphs:\n",
    "        #print(p.text)\n",
    "        inline = p.runs\n",
    "        for i in range(len(inline)):\n",
    "            print(inline[i].text)\n",
    "  \n",
    "        \n",
    "        print(\"####################\")\n",
    "        if regex in p.text:\n",
    "            for i in range(len(inline)):  \n",
    "                \n",
    "                temp = temp + inline[i].text\n",
    "                #print(temp)\n",
    "                if regex in temp:\n",
    "                    if replace==\"na\":\n",
    "                        continue \n",
    "                    else:\n",
    "                        temp = temp.replace(regex, replace)\n",
    "                        #print(temp)\n",
    "                        inline[i].text=temp        \n",
    " \n",
    "def printf (doc_obj):\n",
    "    \n",
    "    for p in doc_obj.paragraphs:\n",
    "        if p.text=='':\n",
    "            continue\n",
    "        else:\n",
    "            print(p.text)\n",
    "    print(\" \\n ############################################################################# \\n\")\n",
    "\n",
    "text_to_replace1 = \"author\"\n",
    "text_to_replace2 = \"title\"\n",
    "#text_to_replace3 = \"ÖZP, 32 (2003) 4\"\n",
    "text_to_replace4 = \"abstract\"\n",
    "#text_to_replace5 = \"ZeS-Arbeitspapier Nr. 07/2004\"\n",
    "#text_to_replace6 = \"TUTS-WP-1-2005\"\n",
    "\n",
    "\n",
    "count=0\n",
    "number=0\n",
    "stopnumber=0\n",
    "for row in df.index:\n",
    "\n",
    "    replace1 = df['author'][count+1000]\n",
    "    replace2 = df['title'][count+1000]\n",
    "    #replace3 = df['journal'][count]\n",
    "    replace4 = df['abstract'][count+1000].replace('\\xa0',' ').replace('                ',' ').replace(\"  \",\" \").replace(\"  \",\" \").replace(\"  \",\" \").replace(\"  \",\" \").replace(\"  \",\" \").replace(\"  \",\" \").replace(\"  \",\" \")\n",
    "    #replace5 = df['journal'][count]\n",
    "    #replace5 = \"\"\n",
    "    #replace6 = \"\"\n",
    "    #print(replace1)\n",
    "    count=count+1\n",
    "    \n",
    "    \n",
    "    \n",
    "    filename = \"6041.docx\"\n",
    "    doc = Document(filename)\n",
    "    docx_replace_regex(doc, text_to_replace1 , replace1, temp)\n",
    "    docx_replace_regex(doc, text_to_replace2 , replace2, temp)\n",
    "    #docx_replace_regex(doc, text_to_replace3 , replace3, temp)\n",
    "    docx_replace_regex(doc, text_to_replace4 , replace4, temp)\n",
    "    #docx_replace_regex(doc, text_to_replace5 , replace5, temp)\n",
    "    #docx_replace_regex(doc, text_to_replace6 , replace6, temp)\n",
    "    \n",
    "    \n",
    "    for section in doc.sections:\n",
    "        footer = section.footer\n",
    "        print(footer.paragraphs[0].text)\n",
    "        footer.paragraphs[1].text  = df['journal'][count+1000]+' ( '+str(df['year'][count+1000])+' )'\n",
    "    \n",
    "    printf (doc)\n",
    "    \n",
    "    print(\" \\n ---------------------------------------------------------------------------------------- \\n\")\n",
    "\n",
    "    doc.save('6041_' + str(number) +  '.docx')\n",
    "    number = number+1\n",
    "    stopnumber=stopnumber+1\n",
    "    if stopnumber==1600:\n",
    "        break\n",
    "\n"
   ]
  },
  {
   "cell_type": "code",
   "execution_count": null,
   "metadata": {
    "id": "au8uIuf7p8Bm",
    "outputId": "3533ab9c-0e60-4cb6-8818-56295dca6611"
   },
   "outputs": [
    {
     "name": "stdout",
     "output_type": "stream",
     "text": [
      "Done\n"
     ]
    }
   ],
   "source": [
    "print('Done')"
   ]
  }
 ],
 "metadata": {
  "colab": {
   "name": "1_word_generation_6041.ipynb",
   "provenance": []
  },
  "kernelspec": {
   "display_name": "Python 3",
   "language": "python",
   "name": "python3"
  },
  "language_info": {
   "codemirror_mode": {
    "name": "ipython",
    "version": 3
   },
   "file_extension": ".py",
   "mimetype": "text/x-python",
   "name": "python",
   "nbconvert_exporter": "python",
   "pygments_lexer": "ipython3",
   "version": "3.7.6"
  }
 },
 "nbformat": 4,
 "nbformat_minor": 1
}
