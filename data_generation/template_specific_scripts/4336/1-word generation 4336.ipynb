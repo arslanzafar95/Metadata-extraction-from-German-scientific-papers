{
 "cells": [
  {
   "cell_type": "code",
   "execution_count": 15,
   "metadata": {},
   "outputs": [],
   "source": [
    "import pandas as pd\n",
    "df = pd.read_excel(\"4336.xlsx\")"
   ]
  },
  {
   "cell_type": "code",
   "execution_count": null,
   "metadata": {
    "scrolled": true
   },
   "outputs": [],
   "source": [
    "import re\n",
    "from docx import Document\n",
    "\n",
    "temp = \"\"\n",
    "def docx_replace_regex(doc_obj, regex , replace, temp):\n",
    "    for p in doc_obj.paragraphs:\n",
    "        #print(p.text)\n",
    "        inline = p.runs\n",
    "        for i in range(len(inline)):\n",
    "            print(inline[i].text)\n",
    "      \n",
    "        print(\"####################\")\n",
    "        if regex in p.text:\n",
    "\n",
    "            for i in range(len(inline)):  \n",
    "                \n",
    "                temp = temp + inline[i].text\n",
    "                #print(temp)\n",
    "                if regex in temp:\n",
    "                    if replace==\"na\":\n",
    "                        continue \n",
    "                    else:\n",
    "                        temp = temp.replace(regex, replace)\n",
    "                        #print(temp)\n",
    "                        inline[i].text=temp    \n",
    "\n",
    "                        \n",
    "def printf (doc_obj):\n",
    "    \n",
    "    for p in doc_obj.paragraphs:\n",
    "        if p.text=='':\n",
    "            continue\n",
    "        else:\n",
    "            print(p.text)\n",
    "    print(\" \\n ############################################################################# \\n\")\n",
    " \n",
    "text_to_replace1 = \"Heinz Timmermann\"\n",
    "text_to_replace2 = \"Seleniumderi\"\n",
    "#text_to_replace3 = \"Aspekte von Machtbehauptung und Opposition imKom munismus\"\n",
    "text_to_replace4 = \"Bericht des BIOst Nr. 6/1998\"\n",
    "text_to_replace5 = \"Der vorliegende Bericht befaßt sich exem plarisch m it Techniken der Machteroberung und Machtbehauptung der russischen/sowjetischen Kom munisten seit der Oktoberrevolution von 1917 sowie m it Bestrebungen, aus der kom munistischen Bewegung heraus reform orientierte Gegenbewegungen zu bilden. Dabei wird an ei nigen Punkten versucht, Querverbindungen zu der aus Ruinen auferstandenen KP Rußlands unt er Sjuganow zu ziehen. Die Analyse stützt sich auf Originalquellen der betroffenen Partei en und zieht darüber hinaus Beiträge vornehm - lich russischer und deutscher Spezialisten heran.\"\n",
    "#text_to_replace6 = \"TUTS-WP-1-2005\"\n",
    "\n",
    "count=0\n",
    "number=0\n",
    "stopnumber=0\n",
    "for row in df.index:\n",
    "    replace1 = df['author'][count+600]\n",
    "    replace2 = df['title'][count+600]\n",
    "    #replace3 = \"\"\n",
    "    replace4 = str(df['journal'][count+600]) + '   6/' + str(df['year'][count+600])\n",
    "    replace5 = str(df['abstract'][count+600]).replace('\\xa0',' ').replace('                ',' ').replace('  ',' ').replace('  ',' ').replace('  ',' ').replace('  ',' ').replace('  ',' ').replace('  ',' ') + '\\n'\n",
    "    #replace6 = \"\"\n",
    "    #print(replace1)\n",
    "    count=count+1\n",
    "  \n",
    "    filename = \"4336.docx\"\n",
    "    doc = Document(filename)\n",
    "    docx_replace_regex(doc, text_to_replace1 , replace1, temp)\n",
    "    docx_replace_regex(doc, text_to_replace2 , replace2, temp)\n",
    "    #docx_replace_regex(doc, text_to_replace3 , replace3, temp)\n",
    "    docx_replace_regex(doc, text_to_replace4 , replace4, temp)\n",
    "    docx_replace_regex(doc, text_to_replace5 , replace5, temp)\n",
    "    #docx_replace_regex(doc, text_to_replace6 , replace6, temp)    \n",
    "    printf (doc)   \n",
    "    print(\" \\n ---------------------------------------------------------------------------------------- \\n\")\n",
    "\n",
    "    doc.save('4336_' + str(number) +  '.docx')\n",
    "    number = number+1\n",
    "    stopnumber=stopnumber+1\n",
    "    if stopnumber==1600:\n",
    "        break"
   ]
  },
  {
   "cell_type": "code",
   "execution_count": 1,
   "metadata": {},
   "outputs": [
    {
     "name": "stdout",
     "output_type": "stream",
     "text": [
      "Done\n"
     ]
    }
   ],
   "source": [
    "print('Done')"
   ]
  }
 ],
 "metadata": {
  "kernelspec": {
   "display_name": "Python 3",
   "language": "python",
   "name": "python3"
  },
  "language_info": {
   "codemirror_mode": {
    "name": "ipython",
    "version": 3
   },
   "file_extension": ".py",
   "mimetype": "text/x-python",
   "name": "python",
   "nbconvert_exporter": "python",
   "pygments_lexer": "ipython3",
   "version": "3.7.6"
  }
 },
 "nbformat": 4,
 "nbformat_minor": 2
}
