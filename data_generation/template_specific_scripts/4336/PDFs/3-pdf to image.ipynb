{
 "cells": [
  {
   "cell_type": "code",
   "execution_count": 1,
   "metadata": {
    "scrolled": true
   },
   "outputs": [
    {
     "name": "stdout",
     "output_type": "stream",
     "text": [
      "4336_0.pdf\n",
      "4336_1.pdf\n",
      "4336_2.pdf\n",
      "4336_3.pdf\n",
      "4336_4.pdf\n",
      "4336_5.pdf\n",
      "4336_6.pdf\n",
      "4336_7.pdf\n",
      "4336_8.pdf\n",
      "4336_9.pdf\n",
      "4336_10.pdf\n"
     ]
    }
   ],
   "source": [
    "import PyPDF2 as p2\n",
    "from pdf2image import convert_from_path, convert_from_bytes\n",
    "from pdf2image.exceptions import (\n",
    "    PDFInfoNotInstalledError,\n",
    "    PDFPageCountError,\n",
    "    PDFSyntaxError\n",
    ")\n",
    "\n",
    "from glob import glob\n",
    "\n",
    "\n",
    "from PIL import Image\n",
    "import re\n",
    "\n",
    "number = 0\n",
    "while True:\n",
    "    acha = '4336_' + str(number) \n",
    "    fname = acha +  '.pdf'\n",
    "    number = number+1\n",
    "    print(fname)\n",
    "    if number==1601:\n",
    "        break\n",
    "    PDFfile = open(fname,'rb')\n",
    "    pdfread = p2.PdfFileReader(PDFfile)\n",
    "    page = 0\n",
    "    for x in [0,1,2,3,4]: \n",
    "        txt = pdfread.getPage(x).extractText()\n",
    "\n",
    "        #if \"Inhalt\" in txt:\n",
    "        #    continue\n",
    "        #if \"inhalt\" in txt:\n",
    "        #    continue\n",
    "        if txt == len(txt) * \"\\n\":\n",
    "            continue\n",
    "        else:\n",
    "            page = x\n",
    "            break\n",
    "    pdfread.getPage(page)\n",
    "    l=convert_from_path(fname)\n",
    "    l[0].save(acha + \".jpeg\")"
   ]
  },
  {
   "cell_type": "code",
   "execution_count": 2,
   "metadata": {},
   "outputs": [],
   "source": [
    "number=0\n",
    "\n",
    "while True:\n",
    "\n",
    "    name='4336_'+str(number)+\".jpeg\"\n",
    "    number=number+1\n",
    "    if number==1601:\n",
    "        break\n",
    "    # Resize all the images in the same length and breath\n",
    "    def resize_im(image, width, height):\n",
    "        Image_a=Image.open(image)# Resizing the image\n",
    "        resized_im = Image_a.resize((width, height))\n",
    "        return resized_im\n",
    "    image=name\n",
    "    resize_im(image,595,842).save(name)"
   ]
  },
  {
   "cell_type": "code",
   "execution_count": 3,
   "metadata": {},
   "outputs": [
    {
     "name": "stdout",
     "output_type": "stream",
     "text": [
      "Done\n"
     ]
    }
   ],
   "source": [
    "print('Done')"
   ]
  },
  {
   "cell_type": "code",
   "execution_count": null,
   "metadata": {},
   "outputs": [],
   "source": []
  }
 ],
 "metadata": {
  "kernelspec": {
   "display_name": "Python 3",
   "language": "python",
   "name": "python3"
  },
  "language_info": {
   "codemirror_mode": {
    "name": "ipython",
    "version": 3
   },
   "file_extension": ".py",
   "mimetype": "text/x-python",
   "name": "python",
   "nbconvert_exporter": "python",
   "pygments_lexer": "ipython3",
   "version": "3.7.6"
  }
 },
 "nbformat": 4,
 "nbformat_minor": 4
}
