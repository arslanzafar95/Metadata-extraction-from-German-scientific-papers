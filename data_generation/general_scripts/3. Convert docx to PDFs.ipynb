{
 "cells": [
  {
   "cell_type": "markdown",
   "metadata": {},
   "source": [
    "### Convert the docx files generated to pdf files using following script, this will create new folder PDFs and put all pdfs there"
   ]
  },
  {
   "cell_type": "code",
   "execution_count": 1,
   "metadata": {},
   "outputs": [
    {
     "name": "stdout",
     "output_type": "stream",
     "text": [
      "\n",
      "Please note that this will overwrite any existing PDF files\n",
      "For best results, close Microsoft Word before proceeding\n",
      "Press enter to continue.\n",
      "Starting conversion... \n",
      "\n",
      "10939.pdf\n",
      "10939_0.pdf\n",
      "10939_1.pdf\n",
      "10939_2.pdf\n",
      "\n",
      "Conversion finished at 21:28:05\n"
     ]
    }
   ],
   "source": [
    "##############################################\n",
    "## Script to convert .doc or .docx to .pdf  ##\n",
    "##         Written by Henry Ling            ##\n",
    "##############################################\n",
    "\n",
    "import os\n",
    "from time import strftime\n",
    "from win32com import client\n",
    "\n",
    "# Counts the number of files in the directory that can be converted\n",
    "def n_files(directory):\n",
    "    total = 0\n",
    "    for file in os.listdir(directory):\n",
    "        if (file.endswith('.doc') or file.endswith('.docx') or file.endswith('.tmd')):\n",
    "            total += 1\n",
    "    return total\n",
    "\n",
    "# Creates a new directory within current directory called PDFs\n",
    "def createFolder(directory):\n",
    "    if not os.path.exists(directory + '\\\\PDFs'):\n",
    "        os.makedirs(directory + '\\\\PDFs')\n",
    "\n",
    "if __name__ == \"__main__\":\n",
    "    print('\\nPlease note that this will overwrite any existing PDF files')\n",
    "    print('For best results, close Microsoft Word before proceeding')\n",
    "    input('Press enter to continue.')\n",
    "\n",
    "    directory = os.getcwd()\n",
    "\n",
    "    if n_files(directory) == 0:\n",
    "        print('There are no files to convert')\n",
    "        exit()\n",
    "\n",
    "    createFolder(directory)\n",
    "\n",
    "    print('Starting conversion... \\n')\n",
    "\n",
    "    # Opens each file with Microsoft Word and saves as a PDF\n",
    "    try:\n",
    "        word = client.DispatchEx('Word.Application')\n",
    "        for file in os.listdir(directory):\n",
    "            if (file.endswith('.doc') or file.endswith('.docx') or file.endswith('.tmd')):\n",
    "                ending = \"\"\n",
    "                if file.endswith('.doc'):\n",
    "                    ending = '.doc'\n",
    "                if file.endswith('.docx'):\n",
    "                    ending = '.docx'\n",
    "                if file.endswith('.tmd'):\n",
    "                    ending = '.tmd'\n",
    "                new_name = file.replace(ending,r\".pdf\")\n",
    "                in_file = os.path.abspath(directory + '\\\\' + file)\n",
    "                new_file = os.path.abspath(directory + '\\\\PDFs' + '\\\\' + new_name)\n",
    "                doc = word.Documents.Open(in_file)\n",
    "                print(new_name)\n",
    "                doc.SaveAs(new_file,FileFormat = 17)\n",
    "                doc.Close()\n",
    "    except :\n",
    "        print(\"Error: Aborting\")\n",
    "    finally:\n",
    "        word.Quit()\n",
    "\n",
    "    print('\\nConversion finished at ' + strftime(\"%H:%M:%S\"))"
   ]
  },
  {
   "cell_type": "code",
   "execution_count": null,
   "metadata": {},
   "outputs": [],
   "source": []
  }
 ],
 "metadata": {
  "kernelspec": {
   "display_name": "Python 3",
   "language": "python",
   "name": "python3"
  },
  "language_info": {
   "codemirror_mode": {
    "name": "ipython",
    "version": 3
   },
   "file_extension": ".py",
   "mimetype": "text/x-python",
   "name": "python",
   "nbconvert_exporter": "python",
   "pygments_lexer": "ipython3",
   "version": "3.7.6"
  }
 },
 "nbformat": 4,
 "nbformat_minor": 4
}
