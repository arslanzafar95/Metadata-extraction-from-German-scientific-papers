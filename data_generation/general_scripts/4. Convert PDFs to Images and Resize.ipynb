{
 "cells": [
  {
   "cell_type": "markdown",
   "metadata": {},
   "source": [
    "#### Run this code in the folder you have your pdf files"
   ]
  },
  {
   "cell_type": "code",
   "execution_count": null,
   "metadata": {},
   "outputs": [],
   "source": [
    "# change the file names to the templates you are working on, like here template is 10939, so just replace 10939\n",
    "\n",
    "import PyPDF2 as p2\n",
    "from pdf2image import convert_from_path, convert_from_bytes\n",
    "from pdf2image.exceptions import (\n",
    "    PDFInfoNotInstalledError,\n",
    "    PDFPageCountError,\n",
    "    PDFSyntaxError\n",
    ")\n",
    "from glob import glob\n",
    "from PIL import Image\n",
    "import re\n",
    "\n",
    "number = 0\n",
    "while True:\n",
    "    name = '10939_' + str(number) \n",
    "    fname = name +  '.pdf'\n",
    "    number = number+1\n",
    "    print(fname)   \n",
    "    # change the number limit to number of files you are generating\n",
    "    if number==564:\n",
    "        break      \n",
    "    PDFfile = open(fname,'rb')\n",
    "    pdfread = p2.PdfFileReader(PDFfile)\n",
    "    page = 0\n",
    "    txt = pdfread.getPage(0).extractText()\n",
    "    pdfread.getPage(page)\n",
    "    all_pages =convert_from_path(fname)\n",
    "    all_pages[0].save(name + \".jpeg\")"
   ]
  },
  {
   "cell_type": "code",
   "execution_count": null,
   "metadata": {},
   "outputs": [],
   "source": [
    "# resize images \n",
    "\n",
    "number=0\n",
    "while True:\n",
    "\n",
    "    name='10939_'+str(number)+\".jpeg\"\n",
    "    number=number+1\n",
    "    \n",
    "    # change the number limit to number of files you are generating\n",
    "    if number==564:\n",
    "        break\n",
    "    # Resize all the images in the same length and breath\n",
    "    def resize_im(image, width, height):\n",
    "        Image_a=Image.open(image)# Resizing the image\n",
    "        resized_im = Image_a.resize((width, height))\n",
    "        return resized_im\n",
    "    image=name\n",
    "    resize_im(image,595,842).save(name)"
   ]
  }
 ],
 "metadata": {
  "kernelspec": {
   "display_name": "Python 3",
   "language": "python",
   "name": "python3"
  },
  "language_info": {
   "codemirror_mode": {
    "name": "ipython",
    "version": 3
   },
   "file_extension": ".py",
   "mimetype": "text/x-python",
   "name": "python",
   "nbconvert_exporter": "python",
   "pygments_lexer": "ipython3",
   "version": "3.7.6"
  }
 },
 "nbformat": 4,
 "nbformat_minor": 4
}
