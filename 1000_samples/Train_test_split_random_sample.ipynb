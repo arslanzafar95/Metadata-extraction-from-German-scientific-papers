{
 "cells": [
  {
   "cell_type": "code",
   "execution_count": 163,
   "metadata": {},
   "outputs": [],
   "source": [
    "import numpy as np\n",
    "import os\n",
    "import shutil"
   ]
  },
  {
   "cell_type": "code",
   "execution_count": 204,
   "metadata": {},
   "outputs": [],
   "source": [
    "# all folders with generated data\n",
    "folders = [f for f in os.listdir('GITHUB/Data Generation/templates/Arslan/')]\n",
    "folders = [f for f in folders if os.path.isdir('GITHUB/Data Generation/templates/Arslan/' + f)]"
   ]
  },
  {
   "cell_type": "code",
   "execution_count": 205,
   "metadata": {},
   "outputs": [
    {
     "data": {
      "text/plain": [
       "['42768',\n",
       " '31506',\n",
       " '11423',\n",
       " '4336',\n",
       " '10939',\n",
       " '21375',\n",
       " '21699',\n",
       " '11703',\n",
       " '11721',\n",
       " '11916',\n",
       " '1528',\n",
       " '44475',\n",
       " '40890',\n",
       " '27787',\n",
       " '20011',\n",
       " '32965',\n",
       " '48259',\n",
       " '27432',\n",
       " '1181',\n",
       " '45544']"
      ]
     },
     "execution_count": 205,
     "metadata": {},
     "output_type": "execute_result"
    }
   ],
   "source": [
    "folders"
   ]
  },
  {
   "cell_type": "code",
   "execution_count": 208,
   "metadata": {},
   "outputs": [],
   "source": [
    "#get all files\n",
    "files = []\n",
    "for folder in folders:\n",
    "    files += [folder + \"/\" + f for f in os.listdir('GITHUB/Data Generation/templates/Arslan/' + folder)]"
   ]
  },
  {
   "cell_type": "code",
   "execution_count": 210,
   "metadata": {},
   "outputs": [],
   "source": [
    "# all files\n",
    "#files = [f for f in os.listdir('GITHUB/1000_samples')]\n",
    "jpegs = [f for f in files if f.endswith(\"jpeg\")]\n",
    "jsons = [f for f in files if f.endswith(\"json\")]"
   ]
  },
  {
   "cell_type": "code",
   "execution_count": 211,
   "metadata": {},
   "outputs": [],
   "source": [
    "random_jpegs = np.random.choice(jpegs, 1000)\n"
   ]
  },
  {
   "cell_type": "code",
   "execution_count": 212,
   "metadata": {},
   "outputs": [],
   "source": [
    "# find corresponding jsons\n",
    "random_jsons = []\n",
    "for f in random_jpegs:\n",
    "    filename = f[:-5]\n",
    "    random_jsons.append(f[:-5] + \".json\")"
   ]
  },
  {
   "cell_type": "code",
   "execution_count": 213,
   "metadata": {},
   "outputs": [],
   "source": [
    "# merge the two lists\n",
    "random_files = sorted(random_jsons + list(random_jpegs))\n",
    "assert len(random_files) == 2000"
   ]
  },
  {
   "cell_type": "code",
   "execution_count": 214,
   "metadata": {},
   "outputs": [],
   "source": [
    "num_train = int(len(random_files) * .6)\n",
    "num_val_test = int(len(random_files) * .2)\n",
    "\n",
    "train_files = random_files[:num_train]\n",
    "val_files = random_files[num_train:(num_train + num_val_test)]\n",
    "test_files = random_files[(num_train + num_val_test):(num_train + 2 * num_val_test)]"
   ]
  },
  {
   "cell_type": "code",
   "execution_count": 215,
   "metadata": {},
   "outputs": [],
   "source": [
    "# make sure that all jpegs have a corresponding json\n",
    "def check_completeness(files):\n",
    "    for f in files:\n",
    "        if f.endswith(\"jpeg\"):\n",
    "            assert f[:-4] + \"json\" in files\n",
    "            \n",
    "check_completeness(train_files)\n",
    "check_completeness(val_files)\n",
    "check_completeness(test_files)"
   ]
  },
  {
   "cell_type": "code",
   "execution_count": 216,
   "metadata": {},
   "outputs": [
    {
     "data": {
      "text/plain": [
       "'/media/timo/D/Dokumente/Koblenz/SoSe2020/ML_Application'"
      ]
     },
     "execution_count": 216,
     "metadata": {},
     "output_type": "execute_result"
    }
   ],
   "source": [
    "os.getcwd()"
   ]
  },
  {
   "cell_type": "code",
   "execution_count": 225,
   "metadata": {},
   "outputs": [],
   "source": [
    "# move files to new folder\n",
    "source = 'GITHUB/Data Generation/templates/Arslan/'\n",
    "dest_base = 'GITHUB/1000_samples/'\n",
    "dest_train = dest_base + 'train'\n",
    "dest_val = dest_base + 'val'\n",
    "dest_test = dest_base + 'test'\n",
    "\n",
    "def move_files(files, source, dest):\n",
    "    for f in files:\n",
    "        filename = source + f\n",
    "        shutil.copy(filename, dest)\n",
    "    "
   ]
  },
  {
   "cell_type": "code",
   "execution_count": 226,
   "metadata": {},
   "outputs": [],
   "source": [
    "move_files(train_files, source, dest_train)\n",
    "move_files(val_files, source, dest_val)\n",
    "move_files(test_files, source, dest_test)\n"
   ]
  },
  {
   "cell_type": "code",
   "execution_count": null,
   "metadata": {},
   "outputs": [],
   "source": []
  }
 ],
 "metadata": {
  "kernelspec": {
   "display_name": "Python 3",
   "language": "python",
   "name": "python3"
  },
  "language_info": {
   "codemirror_mode": {
    "name": "ipython",
    "version": 3
   },
   "file_extension": ".py",
   "mimetype": "text/x-python",
   "name": "python",
   "nbconvert_exporter": "python",
   "pygments_lexer": "ipython3",
   "version": "3.7.6"
  }
 },
 "nbformat": 4,
 "nbformat_minor": 4
}
