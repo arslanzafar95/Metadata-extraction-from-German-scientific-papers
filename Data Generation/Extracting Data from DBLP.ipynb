{
 "cells": [
  {
   "cell_type": "code",
   "execution_count": null,
   "metadata": {},
   "outputs": [],
   "source": [
    "fname = open(\"dblp.xml\",'r')\n",
    "counter = 0\n",
    "for line in fname:\n",
    "    line=line.replace(';','').replace('&ecirc','ê').replace('&eacute','é').replace('&egrave','è').replace('&Euml','Ë').replace('&Ecirc','Ê')\n",
    "    line=line.replace('&Eacute','É').replace('&Egrave','È').replace('&ccedil','ç').replace('&Ccedil','Ç').replace('&szlig','ß')\n",
    "    line=line.replace('&aelig','æ').replace('&AElig','Æ').replace('&aring','å').replace('&auml','ä').replace('&atilde','ã')\n",
    "    line=line.replace('&acirc','â').replace('&aacute','á').replace('&agrave','à').replace('&Aring','Å').replace('&Auml','Ä').replace('&Atilde','Ã')\n",
    "    line=line.replace('&Acirc','Â').replace('&Aacute','Á').replace('&Agrave','À').replace('&euml','ë').replace('&Igrave','Ì').replace('&Iacute','Í')\n",
    "    line=line.replace('&Icirc','Î').replace('&Iuml','Ï').replace('&igrave','ì').replace('&iacute','í').replace('&icirc','î').replace('&iuml','ï')\n",
    "    line=line.replace('&Ntilde','Ñ').replace('&ntilde','ñ').replace('&Ograve','Ò').replace('&Oacute','Ó').replace('&Ocirc','Ô')\n",
    "    line=line.replace('&Otilde','Õ').replace('&Ouml','Ö').replace('&ograve','ò').replace('&oacute','ó').replace('&ocirc','ô')\n",
    "    line=line.replace('&otilde','õ').replace('&ouml','ö').replace('&Oslash','Ø').replace('&oslash','ø').replace('&Ugrave','Ù')\n",
    "    line=line.replace('&Uacute','Ú').replace('&Ucirc','Û').replace('&Uuml','Ü').replace('&ugrave','ù').replace('&uacute','ú').replace('&ucirc','û')\n",
    "    line=line.replace('&uuml','ü').replace('&Yacute','Ý').replace('&yacute','ý').replace('&yuml','ÿ')\n",
    "    \n",
    "    print (line)\n",
    "    \n",
    "    counter +=1\n",
    "    if counter == 5000:\n",
    "        break"
   ]
  },
  {
   "cell_type": "code",
   "execution_count": null,
   "metadata": {},
   "outputs": [],
   "source": [
    "fname = open(\"dblp-short.xml\",'r')\n",
    "fname.read()"
   ]
  },
  {
   "cell_type": "code",
   "execution_count": null,
   "metadata": {},
   "outputs": [],
   "source": [
    "import xml.etree.ElementTree as ET\n",
    "tree = ET.parse('dblp-short.xml')\n",
    "root = tree.getroot()"
   ]
  },
  {
   "cell_type": "code",
   "execution_count": null,
   "metadata": {},
   "outputs": [],
   "source": [
    "for child in root:\n",
    "    print (child.tag,\"----\", child.attrib)"
   ]
  },
  {
   "cell_type": "code",
   "execution_count": null,
   "metadata": {},
   "outputs": [],
   "source": [
    "article_data = []\n",
    "\n",
    "for article in root.findall('article'):\n",
    "    list_all = []\n",
    "    \n",
    "    authors = article.findall('author')\n",
    "    author_lst=[]\n",
    "    for author in authors:\n",
    "        author_value = author.text\n",
    "        author_lst.append(author_value)\n",
    "    list_all.append(author_lst)\n",
    "    \n",
    "    titles = article.findall('title')\n",
    "    title_lst=[]\n",
    "    for title in titles:\n",
    "        title_value = title.text\n",
    "        title_lst.append(title_value)\n",
    "    list_all.append(title_lst)\n",
    "    \n",
    "    journals = article.findall('journal')\n",
    "    journal_lst=[]\n",
    "    for journal in journals:\n",
    "        journal_value = journal.text\n",
    "        journal_lst.append(journal_value)\n",
    "    list_all.append(journal_lst)\n",
    "    \n",
    "    years = article.findall('years')\n",
    "    year_lst=[]\n",
    "    for year in years:\n",
    "        year_value = year.text\n",
    "        year_lst.append(year_value)\n",
    "    list_all.append(year_lst)\n",
    "    \n",
    "    dois = article.findall('ee')\n",
    "    try:\n",
    "        aa=dois[0]\n",
    "    except:\n",
    "        dois = article.findall('url')\n",
    "    doi_lst=[]\n",
    "    for doi in dois:\n",
    "        doi_value = doi.text\n",
    "        doi_lst.append(doi_value)\n",
    "    list_all.append(doi_lst)\n",
    "    \n",
    "    publishers = article.findall('publisher')\n",
    "    publisher_lst=[]\n",
    "    for publisher in publishers:\n",
    "        publisher_value = publisher.text\n",
    "        publisher_lst.append(publisher_value)\n",
    "    list_all.append(publisher_lst)\n",
    "    \n",
    "   \n",
    "    article_data.append(list_all)\n"
   ]
  },
  {
   "cell_type": "code",
   "execution_count": null,
   "metadata": {},
   "outputs": [],
   "source": [
    "article_data"
   ]
  },
  {
   "cell_type": "code",
   "execution_count": null,
   "metadata": {},
   "outputs": [],
   "source": [
    "import pandas as pd\n",
    "df = pd.DataFrame(columns={'author','title','journal','year','doi','publisher'})"
   ]
  },
  {
   "cell_type": "code",
   "execution_count": null,
   "metadata": {},
   "outputs": [],
   "source": [
    "row=0\n",
    "for x in article_data:\n",
    "    df.loc[row,'author']= x[0]\n",
    "    df.loc[row,'title']= x[1]\n",
    "    df.loc[row,'journal']= x[2]\n",
    "    df.loc[row,'year']= x[3]\n",
    "    df.loc[row,'doi']= x[4]\n",
    "    df.loc[row,'publisher']= x[5]\n",
    "    row+=1"
   ]
  },
  {
   "cell_type": "code",
   "execution_count": null,
   "metadata": {},
   "outputs": [],
   "source": [
    "df"
   ]
  },
  {
   "cell_type": "code",
   "execution_count": null,
   "metadata": {},
   "outputs": [],
   "source": [
    "df.to_excel(\"dataframe.xlsx\")"
   ]
  },
  {
   "cell_type": "code",
   "execution_count": null,
   "metadata": {},
   "outputs": [],
   "source": []
  }
 ],
 "metadata": {
  "kernelspec": {
   "display_name": "Python 3",
   "language": "python",
   "name": "python3"
  },
  "language_info": {
   "codemirror_mode": {
    "name": "ipython",
    "version": 3
   },
   "file_extension": ".py",
   "mimetype": "text/x-python",
   "name": "python",
   "nbconvert_exporter": "python",
   "pygments_lexer": "ipython3",
   "version": "3.7.6"
  }
 },
 "nbformat": 4,
 "nbformat_minor": 2
}
